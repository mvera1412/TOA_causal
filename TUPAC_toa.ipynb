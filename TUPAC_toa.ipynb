{
  "cells": [
    {
      "cell_type": "code",
      "source": [
        "in_colab = True\n",
        "if in_colab:\n",
        "  from google.colab import output, drive\n",
        "  drive.mount('/content/drive')\n",
        "  %cd drive/My Drive/Tesis notebooks/TOA_causal"
      ],
      "metadata": {
        "colab": {
          "base_uri": "https://localhost:8080/"
        },
        "id": "K5y2pmDPj-wD",
        "outputId": "328e0281-8397-4879-9c8c-f963c3766b8f"
      },
      "execution_count": 4,
      "outputs": [
        {
          "output_type": "stream",
          "name": "stdout",
          "text": [
            "Mounted at /content/drive\n",
            "/content/drive/My Drive/Tesis notebooks/TOA_causal\n"
          ]
        }
      ]
    },
    {
      "cell_type": "code",
      "execution_count": 2,
      "metadata": {
        "colab": {
          "base_uri": "https://localhost:8080/"
        },
        "id": "-CV8-9ueit5U",
        "outputId": "cb969c46-f8d5-40a2-9c7a-a767b994ea9b"
      },
      "outputs": [
        {
          "output_type": "stream",
          "name": "stdout",
          "text": [
            "[Errno 2] No such file or directory: '/root/TOA_causal'\n",
            "/content\n"
          ]
        }
      ],
      "source": [
        "%cd ~/TOA_causal"
      ]
    },
    {
      "cell_type": "code",
      "execution_count": null,
      "metadata": {
        "id": "eeMr8GcLit5Y"
      },
      "outputs": [],
      "source": [
        "#from synthetic.createdata import create_trainatestdata\n",
        "#create_trainatestdata('../data/')"
      ]
    },
    {
      "cell_type": "code",
      "execution_count": 5,
      "metadata": {
        "id": "45oe4Kwfit5Y"
      },
      "outputs": [],
      "source": [
        "import torch\n",
        "import os\n",
        "from tqdm import tqdm\n",
        "import numpy as np\n",
        "from TOA.mbfdunetln import MBPFDUNet\n",
        "from torch.optim.lr_scheduler import MultiStepLR\n",
        "from TOA.train import createForwMat\n",
        "from utils.causal_utils import train,validation,testing,computing_metrics,load_traindataset,load_testdataset,load_ckp\n",
        "from utils.noncausal_utils import load_traindataset_nc,train_nc"
      ]
    },
    {
      "cell_type": "code",
      "execution_count": null,
      "metadata": {
        "id": "OsBwhMhqit5Z"
      },
      "outputs": [],
      "source": [
        "val_percent = 440.0/2216.0 # 440 para validacion, 1776 para train\n",
        "le = 5\n",
        "epochs = 100\n",
        "# cache_dir = '../data/'\n",
        "cache_dir = 'datos_toa'\n",
        "fecha = '120822_17'\n",
        "#continue_training = False"
      ]
    },
    {
      "cell_type": "code",
      "execution_count": null,
      "metadata": {
        "id": "mOpcSy1Ait5Z",
        "outputId": "135ea21d-48e5-4495-b2f6-52c9258e5ff8"
      },
      "outputs": [
        {
          "name": "stderr",
          "output_type": "stream",
          "text": [
            "  7%|▋         | 1122/16384 [00:00<00:01, 11215.14it/s]"
          ]
        },
        {
          "name": "stdout",
          "output_type": "stream",
          "text": [
            "Device to be used: cuda\n",
            "Creating Forward Model-based Matrix without position uncertainty\n",
            "Creating SIR Matrix...\n"
          ]
        },
        {
          "name": "stderr",
          "output_type": "stream",
          "text": [
            "100%|██████████| 16384/16384 [00:01<00:00, 10569.59it/s]\n"
          ]
        },
        {
          "name": "stdout",
          "output_type": "stream",
          "text": [
            "Creating PA Matrix...\n",
            "Applying Time Derivative Operator...\n",
            "done\n",
            "done\n"
          ]
        }
      ],
      "source": [
        "if torch.cuda.is_available():\n",
        "\tdevice = torch.device(\"cuda\")\n",
        "else:\n",
        "\tdevice = torch.device(\"cpu\")\n",
        "print(f\"Device to be used: {device}\")\n",
        "\n",
        "\n",
        "##Loss\n",
        "loss_fn = torch.nn.MSELoss()\n",
        "\n",
        "##TOA matrix\n",
        "Ao = createForwMat()\n",
        "Ao = torch.as_tensor(Ao).type(torch.float32)\n",
        "Ao = Ao.to(device=device)\n",
        "\n",
        "##Files\n",
        "ckp_last = cache_dir + 'mbfdunetln' + fecha + '.pth' # name of the file of the saved weights of the trained net\n",
        "ckp_best = cache_dir + 'mbfdunetln_best' + fecha + '.pth'\n",
        "\n",
        "#if continue_training:\n",
        "#\tmodel, optimizer, epoch0, valid_loss_min = load_ckp(ckp_last, model, optimizer)\n",
        "#    lr_scheduler = MultiStepLR(optimizer,milestones=[le * epochs * 3 // 4],gamma=0.1,last_epoch = epoch0 - 1)\n",
        "#else:\n",
        "\t#epoch0 = 0\n",
        "\t#valid_loss_min = np.inf"
      ]
    },
    {
      "cell_type": "code",
      "execution_count": null,
      "metadata": {
        "id": "CIpzc7oQit5a",
        "outputId": "fe8fefa8-3c83-4f38-f96f-bac1592e2d16"
      },
      "outputs": [
        {
          "name": "stderr",
          "output_type": "stream",
          "text": [
            "100%|██████████| 100/100 [7:16:12<00:00, 261.73s/it] \n",
            "100%|██████████| 100/100 [7:12:52<00:00, 259.73s/it] \n",
            "100%|██████████| 100/100 [7:13:48<00:00, 260.28s/it] \n",
            " 15%|█▌        | 15/100 [1:04:55<6:07:58, 259.75s/it]"
          ]
        }
      ],
      "source": [
        "\"\"\"alphas = [1e-4,5e-4,1e-3]\n",
        "bs = [1,2,3] # per environment\n",
        "taus = [0.4,0.8]\"\"\"\n",
        "alphas = [5e-4]\n",
        "bs = [20] # per environment\n",
        "taus = [0.4,0.8]\n",
        "\n",
        "checkpoint = {'valid_loss_min': np.inf}\n",
        "\n",
        "epoch0 = 0\n",
        "for batchsize in bs:\n",
        "    train_loaders, val_loader = load_traindataset(cache_dir,val_percent,batchsize,val_batchsize=40,le = le)\n",
        "    for lr in alphas:\n",
        "        for agreement_threshold in taus:\n",
        "            model = MBPFDUNet().to(device=device)\n",
        "            checkpoint['state_dict'] = model.state_dict()\n",
        "            optimizer = torch.optim.Adam(model.parameters(),lr=lr)\n",
        "            checkpoint['learning_rate'] = lr\n",
        "            checkpoint['batchsize'] = batchsize\n",
        "            checkpoint['agreement_threshold'] = agreement_threshold\n",
        "            checkpoint['optimizer'] = optimizer.state_dict()\n",
        "            checkpoint['epoch'] = epoch0\n",
        "            lr_scheduler = MultiStepLR(optimizer,milestones=[le * epochs * 3 // 4],gamma=0.1)\n",
        "            for epoch in tqdm(range(epoch0 + 1, epochs + 1)):\n",
        "                train(model,device,train_loaders,optimizer,n_agreement_envs=le,Ao=Ao,loss_fn=loss_fn,agreement_threshold=agreement_threshold,scheduler=lr_scheduler)\n",
        "                checkpoint['epoch'] = epoch\n",
        "                checkpoint['valid_loss_min'] = validation(model, device, val_loader, optimizer, loss_fn, Ao, checkpoint, ckp_last, ckp_best, fecha)"
      ]
    },
    {
      "cell_type": "code",
      "execution_count": null,
      "metadata": {
        "id": "etc3o2Wcit5b"
      },
      "outputs": [],
      "source": [
        "model, optimizer, best_epoch, valid_loss_min, best_lr, best_bs, best_threshold = load_ckp(ckp_best, model, optimizer)"
      ]
    },
    {
      "cell_type": "code",
      "execution_count": null,
      "metadata": {
        "id": "IG4Q9RHbit5c"
      },
      "outputs": [],
      "source": [
        "#from importlib import reload \n",
        "#import utils.noncausal_utils \n",
        "#reload(utils.noncausal_utils)\n",
        "#from utils.noncausal_utils import train_nc"
      ]
    },
    {
      "cell_type": "code",
      "execution_count": null,
      "metadata": {
        "id": "yu-7OQ-8it5m"
      },
      "outputs": [],
      "source": [
        "ckp_benchmark_last = cache_dir + 'benchmark' + fecha + '.pth'\n",
        "ckp_benchmark_best = cache_dir + 'benchmark_best' + fecha + '.pth'\n",
        "checkpoint_nc = {'valid_loss_min': np.inf, 'agreement_threshold' : 0.0}\n",
        "epoch0 = 0\n",
        "for batchsize in bs:\n",
        "    train_loader_nc, val_loader_nc = load_traindataset_nc(cache_dir,val_percent,batchsize*le,val_batchsize=40,le = le)\n",
        "    for lr in alphas:\n",
        "        model_nc = MBPFDUNet().to(device=device)\n",
        "        checkpoint_nc['state_dict'] = model_nc.state_dict()\n",
        "        optimizer_nc = torch.optim.Adam(model_nc.parameters(),lr=lr)\n",
        "        checkpoint_nc['learning_rate'] = lr\n",
        "        checkpoint_nc['batchsize'] = batchsize\n",
        "        checkpoint_nc['optimizer'] = optimizer_nc.state_dict()\n",
        "        checkpoint_nc['epoch'] = epoch0\n",
        "        lr_scheduler_nc = MultiStepLR(optimizer_nc,milestones=[le * epochs * 3 // 4],gamma=0.1)\n",
        "        for epoch in tqdm(range(epoch0 + 1, epochs + 1)):\n",
        "            train_nc(model_nc,device,train_loader_nc,optimizer_nc,Ao=Ao,loss_fn=loss_fn,scheduler=lr_scheduler_nc)\n",
        "            checkpoint_nc['epoch'] = epoch\n",
        "            checkpoint_nc['valid_loss_min'] = validation(model_nc, device, val_loader_nc, optimizer_nc, loss_fn, Ao, checkpoint_nc, ckp_benchmark_last, ckp_benchmark_best, fecha)"
      ]
    },
    {
      "cell_type": "code",
      "execution_count": null,
      "metadata": {
        "id": "y5qThwx6it5n"
      },
      "outputs": [],
      "source": [
        "model_nc, optimizer_nc, best_epoch_nc, vlm_nc, lr_nc, bs_nc, at_nc= load_ckp(ckp_benchmark_best, model_nc, optimizer_nc)"
      ]
    },
    {
      "cell_type": "code",
      "execution_count": null,
      "metadata": {
        "id": "2CPU4FkKit5n"
      },
      "outputs": [],
      "source": [
        "test_loaders = load_testdataset(cache_dir)\n",
        "le_test = len(test_loaders)\n",
        "SSIM = [[] for _ in range(le_test)] \n",
        "PC = [[] for _ in range(le_test)] \n",
        "RMSE = [[] for _ in range(le_test)]\n",
        "PSNR = [[] for _ in range(le_test)]\n",
        "for j in range(le_test):\n",
        "    iterator = iter(test_loaders[j])\n",
        "    while 1:\n",
        "        try:\n",
        "            data_test = next(iterator)\n",
        "        except StopIteration:\n",
        "            break  \n",
        "        a,b,c,d=computing_metrics(data_test[0].to(\"cpu\"),data_test[1].to(\"cpu\"),Ao.to(device=\"cpu\"),model,model_nc)\n",
        "        SSIM[j].append(a)\n",
        "        PC[j].append(b)\n",
        "        RMSE[j].append(c)\n",
        "        PSNR[j].append(d)"
      ]
    },
    {
      "cell_type": "code",
      "execution_count": null,
      "metadata": {
        "id": "KSGSuxh8it5o"
      },
      "outputs": [],
      "source": [
        "#from importlib import reload \n",
        "#import utils.causal_utils \n",
        "#reload(utils.causal_utils)\n",
        "#from utils.causal_utils import testing\n",
        "testing(np.array(SSIM),np.array(PC),np.array(RMSE),np.array(PSNR),test_loaders, Ao.to(device=\"cpu\"),model, model_nc)"
      ]
    },
    {
      "cell_type": "code",
      "execution_count": null,
      "metadata": {
        "id": "cWtG-52Cit5o"
      },
      "outputs": [],
      "source": []
    },
    {
      "cell_type": "code",
      "execution_count": null,
      "metadata": {
        "id": "YNQV2V9Iit5o"
      },
      "outputs": [],
      "source": []
    }
  ],
  "metadata": {
    "kernelspec": {
      "display_name": "Python 3",
      "language": "python",
      "name": "python3"
    },
    "language_info": {
      "codemirror_mode": {
        "name": "ipython",
        "version": 3
      },
      "file_extension": ".py",
      "mimetype": "text/x-python",
      "name": "python",
      "nbconvert_exporter": "python",
      "pygments_lexer": "ipython3",
      "version": "3.7.9"
    },
    "colab": {
      "provenance": []
    }
  },
  "nbformat": 4,
  "nbformat_minor": 0
}