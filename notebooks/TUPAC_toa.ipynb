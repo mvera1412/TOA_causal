{
  "cells": [
    {
      "cell_type": "markdown",
      "metadata": {
        "id": "view-in-github",
        "colab_type": "text"
      },
      "source": [
        "<a href=\"https://colab.research.google.com/github/mvera1412/TOA_causal/blob/test-mati-p/notebooks/TUPAC_toa.ipynb\" target=\"_parent\"><img src=\"https://colab.research.google.com/assets/colab-badge.svg\" alt=\"Open In Colab\"/></a>"
      ]
    },
    {
      "cell_type": "code",
      "source": [
        "in_colab = True # save to notebooks/TUPAC_toa.ipynb\n",
        "if in_colab:\n",
        "    from google.colab import output, drive\n",
        "    drive.mount('/content/drive')  # sets the google drive folder as the notebook directory.\n",
        "    %cd drive/My Drive/Tesis notebooks/TOA_causal\n",
        "    print(\"Currently in /content/drive/My Drive/Tesis notebooks/TOA_causal\")\n",
        "    print(\"Commit to notebooks/TUPAC_toa.ipynb\")\n",
        "else:\n",
        "    %cd ~/TOA_causal"
      ],
      "metadata": {
        "colab": {
          "base_uri": "https://localhost:8080/"
        },
        "id": "K5y2pmDPj-wD",
        "outputId": "10316ba0-c016-41fa-dcd9-e807a9b32f3b"
      },
      "execution_count": 1,
      "outputs": [
        {
          "output_type": "stream",
          "name": "stdout",
          "text": [
            "Drive already mounted at /content/drive; to attempt to forcibly remount, call drive.mount(\"/content/drive\", force_remount=True).\n",
            "/content/drive/My Drive/Tesis notebooks/TOA_causal\n",
            "Currently in /content/drive/My Drive/Tesis notebooks/TOA_causal\n",
            "Commit to notebooks/TUPAC_toa.ipynb\n"
          ]
        }
      ]
    },
    {
      "cell_type": "code",
      "execution_count": 2,
      "metadata": {
        "id": "eeMr8GcLit5Y"
      },
      "outputs": [],
      "source": [
        "#from synthetic.createdata import create_trainatestdata\n",
        "#create_trainatestdata('../data/')"
      ]
    },
    {
      "cell_type": "code",
      "source": [
        "%pip install wandb\n",
        "#%pip install torchmetrics"
      ],
      "metadata": {
        "colab": {
          "base_uri": "https://localhost:8080/"
        },
        "id": "rwYfFaggE6sE",
        "outputId": "6867ef90-8aca-4fe3-e2b7-bedeb671368c"
      },
      "execution_count": 2,
      "outputs": [
        {
          "output_type": "stream",
          "name": "stdout",
          "text": [
            "Looking in indexes: https://pypi.org/simple, https://us-python.pkg.dev/colab-wheels/public/simple/\n",
            "Requirement already satisfied: wandb in /usr/local/lib/python3.7/dist-packages (0.13.4)\n",
            "Requirement already satisfied: setproctitle in /usr/local/lib/python3.7/dist-packages (from wandb) (1.3.2)\n",
            "Requirement already satisfied: psutil>=5.0.0 in /usr/local/lib/python3.7/dist-packages (from wandb) (5.4.8)\n",
            "Requirement already satisfied: PyYAML in /usr/local/lib/python3.7/dist-packages (from wandb) (6.0)\n",
            "Requirement already satisfied: pathtools in /usr/local/lib/python3.7/dist-packages (from wandb) (0.1.2)\n",
            "Requirement already satisfied: sentry-sdk>=1.0.0 in /usr/local/lib/python3.7/dist-packages (from wandb) (1.9.0)\n",
            "Requirement already satisfied: protobuf!=4.0.*,!=4.21.0,<5,>=3.12.0 in /usr/local/lib/python3.7/dist-packages (from wandb) (3.17.3)\n",
            "Requirement already satisfied: requests<3,>=2.0.0 in /usr/local/lib/python3.7/dist-packages (from wandb) (2.23.0)\n",
            "Requirement already satisfied: setuptools in /usr/local/lib/python3.7/dist-packages (from wandb) (57.4.0)\n",
            "Requirement already satisfied: docker-pycreds>=0.4.0 in /usr/local/lib/python3.7/dist-packages (from wandb) (0.4.0)\n",
            "Requirement already satisfied: shortuuid>=0.5.0 in /usr/local/lib/python3.7/dist-packages (from wandb) (1.0.9)\n",
            "Requirement already satisfied: GitPython>=1.0.0 in /usr/local/lib/python3.7/dist-packages (from wandb) (3.1.29)\n",
            "Requirement already satisfied: promise<3,>=2.0 in /usr/local/lib/python3.7/dist-packages (from wandb) (2.3)\n",
            "Requirement already satisfied: Click!=8.0.0,>=7.0 in /usr/local/lib/python3.7/dist-packages (from wandb) (7.1.2)\n",
            "Requirement already satisfied: six>=1.13.0 in /usr/local/lib/python3.7/dist-packages (from wandb) (1.15.0)\n",
            "Requirement already satisfied: typing-extensions>=3.7.4.3 in /usr/local/lib/python3.7/dist-packages (from GitPython>=1.0.0->wandb) (4.1.1)\n",
            "Requirement already satisfied: gitdb<5,>=4.0.1 in /usr/local/lib/python3.7/dist-packages (from GitPython>=1.0.0->wandb) (4.0.9)\n",
            "Requirement already satisfied: smmap<6,>=3.0.1 in /usr/local/lib/python3.7/dist-packages (from gitdb<5,>=4.0.1->GitPython>=1.0.0->wandb) (5.0.0)\n",
            "Requirement already satisfied: urllib3!=1.25.0,!=1.25.1,<1.26,>=1.21.1 in /usr/local/lib/python3.7/dist-packages (from requests<3,>=2.0.0->wandb) (1.24.3)\n",
            "Requirement already satisfied: certifi>=2017.4.17 in /usr/local/lib/python3.7/dist-packages (from requests<3,>=2.0.0->wandb) (2022.9.24)\n",
            "Requirement already satisfied: chardet<4,>=3.0.2 in /usr/local/lib/python3.7/dist-packages (from requests<3,>=2.0.0->wandb) (3.0.4)\n",
            "Requirement already satisfied: idna<3,>=2.5 in /usr/local/lib/python3.7/dist-packages (from requests<3,>=2.0.0->wandb) (2.10)\n"
          ]
        }
      ]
    },
    {
      "cell_type": "code",
      "execution_count": 3,
      "metadata": {
        "id": "45oe4Kwfit5Y"
      },
      "outputs": [],
      "source": [
        "import torch\n",
        "import os\n",
        "import uuid\n",
        "from tqdm import tqdm\n",
        "from typing import Tuple, List\n",
        "import numpy as np\n",
        "import matplotlib.pyplot as plt\n",
        "from TOA.mbfdunetln import MBPFDUNet\n",
        "from torch.optim.lr_scheduler import MultiStepLR\n",
        "from TOA.train import createForwMat\n",
        "from utils.causal_utils import train,validation, testing, computing_metrics, loader_compute_metrics, load_traindataset_v2, load_testdataset, load_ckp\n",
        "from utils.noncausal_utils import load_traindataset_nc,train_nc\n",
        "\n",
        "from utils.causal_utils import predicting\n",
        "from torch.utils.data.dataloader import DataLoader\n"
      ]
    },
    {
      "cell_type": "code",
      "source": [
        "import wandb"
      ],
      "metadata": {
        "id": "ouz0ZD33JGp6"
      },
      "execution_count": 4,
      "outputs": []
    },
    {
      "cell_type": "code",
      "execution_count": 5,
      "metadata": {
        "id": "OsBwhMhqit5Z"
      },
      "outputs": [],
      "source": [
        "val_percent = 440.0/2216.0 # 440 para validacion, 1776 para train\n",
        "le = 5  # number of environments\n",
        "epochs = 100\n",
        "#cache_dir = '../data/'\n",
        "cache_dir = 'datos_toa'\n",
        "fecha = '120822_17'\n",
        "#continue_training = False"
      ]
    },
    {
      "cell_type": "code",
      "source": [
        "def save_model(model: torch.nn.Module, name, drive_path='COLAB/colab_models'):\n",
        "    \"\"\"Save model parameters to mounted drive folder. To current file location it is appended drive_path/name\n",
        "    Example:\n",
        "            dummy_model = MBPFDUNet().to(device=device)\n",
        "            save_model(dummy_model, name='my_model')\n",
        "    \"\"\"\n",
        "    path = os.path.join(drive_path, name)\n",
        "    print(f'Saving model to {path} with name \"{name}\"')\n",
        "    torch.save(model.state_dict(), path)\n",
        "\n",
        "def load_model(model: torch.nn.Module, name, drive_path='COLAB/colab_models', device='gpu'):\n",
        "    path = os.path.join(os.getcwd(),\n",
        "                        drive_path,\n",
        "                        name)\n",
        "    model.load_state_dict(torch.load(path, map_location=torch.device(device)))\n",
        "\n",
        "\n",
        "# to try out later:\n",
        "# !git clone https://github.com/yourusername/yourpublicrepo.git"
      ],
      "metadata": {
        "id": "6ODUfbcSnU-P"
      },
      "execution_count": 6,
      "outputs": []
    },
    {
      "cell_type": "code",
      "execution_count": 7,
      "metadata": {
        "colab": {
          "base_uri": "https://localhost:8080/"
        },
        "id": "mOpcSy1Ait5Z",
        "outputId": "eaeef14f-4203-4de1-87ee-a9415cb72b20"
      },
      "outputs": [
        {
          "output_type": "stream",
          "name": "stdout",
          "text": [
            "Device to be used: cuda\n",
            "Creating Forward Model-based Matrix without position uncertainty\n",
            "Creating SIR Matrix...\n"
          ]
        },
        {
          "output_type": "stream",
          "name": "stderr",
          "text": [
            "100%|██████████| 16384/16384 [00:02<00:00, 7093.95it/s]\n"
          ]
        },
        {
          "output_type": "stream",
          "name": "stdout",
          "text": [
            "Creating PA Matrix...\n",
            "Applying Time Derivative Operator...\n",
            "done\n",
            "done\n"
          ]
        }
      ],
      "source": [
        "if torch.cuda.is_available():\n",
        "\tdevice = torch.device(\"cuda\")\n",
        "else:\n",
        "\tdevice = torch.device(\"cpu\")\n",
        "print(f\"Device to be used: {device}\")\n",
        "\n",
        "\n",
        "##Loss\n",
        "loss_fn = torch.nn.MSELoss()\n",
        "\n",
        "##TOA matrix\n",
        "Ao = createForwMat()\n",
        "Ao = torch.as_tensor(Ao).type(torch.float32)\n",
        "Ao = Ao.to(device=device)\n",
        "\n",
        "##Files\n",
        "ckp_last = cache_dir + 'mbfdunetln' + fecha + '.pth' # name of the file of the saved weights of the trained net\n",
        "ckp_best = cache_dir + 'mbfdunetln_best' + fecha + '.pth'\n",
        "\n",
        "#if continue_training:\n",
        "#\tmodel, optimizer, epoch0, valid_loss_min = load_ckp(ckp_last, model, optimizer)\n",
        "#    lr_scheduler = MultiStepLR(optimizer,milestones=[le * epochs * 3 // 4],gamma=0.1,last_epoch = epoch0 - 1)\n",
        "#else:\n",
        "\t#epoch0 = 0\n",
        "\t#valid_loss_min = np.inf"
      ]
    },
    {
      "cell_type": "code",
      "source": [
        "#model_ANDMask = MBPFDUNet().to(device=device)\n",
        "#load_model(model_ANDMask, name='MBPFDUNet_bs_[10]_epo_100_lr_0.0005_tau_0.8', device=device.type, drive_path=\"../models\")\n",
        "\n",
        "model_IRMv1 = MBPFDUNet().to(device=device)\n",
        "load_model(model_IRMv1, name='MBPFDUNet_bs_8_epo_100_lr_0.0005_lambda_10000.0_inEpoch_65_66c0b', device=device.type)"
      ],
      "metadata": {
        "id": "EiIV4MNIs4BU"
      },
      "execution_count": null,
      "outputs": []
    },
    {
      "cell_type": "code",
      "source": [
        "loaders: Tuple[List[DataLoader], List[DataLoader]] = load_traindataset_v2(cache_dir, val_percent, train_batchsize=10, val_batchsize=40, le=le)  # the list of training DataLoaders has a total of le DataLoaders, one for each env\n",
        "train_loaders, val_loaders = loaders"
      ],
      "metadata": {
        "id": "dZ5nrRfihvoN"
      },
      "execution_count": 12,
      "outputs": []
    },
    {
      "cell_type": "code",
      "source": [
        "environment_number = 4\n",
        "features_and_labels: Tuple[torch.Tensor, torch.Tensor] = next(iter(train_loaders[4]))  # next(iter()) returns the next item to be iterated\n",
        "\n",
        "train_features, train_labels = features_and_labels\n",
        "#output_ANDMask: torch.Tensor = predicting(model_ANDMask, train_features, Ao, device)\n",
        "output_IRMv1: torch.Tensor = predicting(model_IRMv1, train_features, Ao, device)\n",
        "\n",
        "print(f\"Feature batch shape: {train_features.size()}\")  # size: (batchsize, n_sensors, width) = (10, 32, 512)\n",
        "print(f\"Labels batch shape: {train_labels.size()}\")     # size: (batchsize, heigth,    width) = (10, 64, 64)\n",
        "print(f\"Reconstructed batch shape: {output_IRMv1.size()}\")    # size: (batchsize, heigth,    width) = (10, 64, 64)\n",
        "img = train_features[0].squeeze()\n",
        "label = train_labels[0].squeeze()\n",
        "#reconstructed_ANDMask = output_ANDMask[0].squeeze()\n",
        "reconstructed_IRMv1 = output_IRMv1[0].squeeze()\n",
        "\n",
        "# Plots\n",
        "figsize = (10,6)\n",
        "fig, axs = plt.subplots(1, 4, figsize=figsize)\n",
        "\n",
        "axs[0].imshow(img, cmap=\"gray\", aspect='auto')\n",
        "axs[0].set_title('Input sinogram')\n",
        "\n",
        "axs[1].imshow(label, cmap=\"gray\", aspect='auto')\n",
        "axs[1].set_title('Original')\n",
        "\n",
        "\"\"\"rec = reconstructed_ANDMask.detach().to(device='cpu')\n",
        "axs[2].imshow(rec, cmap=\"gray\", aspect='auto')\n",
        "axs[2].set_title('ANDMask')\"\"\"\n",
        "\n",
        "rec = reconstructed_IRMv1.detach().to(device='cpu')\n",
        "axs[3].imshow(rec, cmap=\"gray\", aspect='auto')\n",
        "axs[3].set_title('IRMv1')\n",
        "\n",
        "plt.show()"
      ],
      "metadata": {
        "id": "1F4x0aGBpQjt",
        "outputId": "7e262d1c-207d-4d48-ced4-bef7b5918396",
        "colab": {
          "base_uri": "https://localhost:8080/",
          "height": 442
        }
      },
      "execution_count": 13,
      "outputs": [
        {
          "output_type": "stream",
          "name": "stdout",
          "text": [
            "Feature batch shape: torch.Size([10, 32, 512])\n",
            "Labels batch shape: torch.Size([10, 64, 64])\n",
            "Reconstructed batch shape: torch.Size([10, 64, 64])\n"
          ]
        },
        {
          "output_type": "display_data",
          "data": {
            "text/plain": [
              "<Figure size 720x432 with 4 Axes>"
            ],
            "image/png": "[encoded data removed]"
          },
          "metadata": {
            "needs_background": "light"
          }
        }
      ]
    },
    {
      "cell_type": "code",
      "source": [
        "%cd TOA_causal"
      ],
      "metadata": {
        "colab": {
          "base_uri": "https://localhost:8080/"
        },
        "id": "ruFWku-PAm1A",
        "outputId": "0cf3c1bb-5cdb-4d65-f60e-40526f3e71fd"
      },
      "execution_count": 19,
      "outputs": [
        {
          "output_type": "stream",
          "name": "stdout",
          "text": [
            "/content/drive/My Drive/Tesis notebooks/TOA_causal\n"
          ]
        }
      ]
    },
    {
      "cell_type": "code",
      "source": [
        "# import model from another run to keep training it\n",
        "model_IRMv1 = MBPFDUNet().to(device=device)\n",
        "load_model(model_IRMv1, name='MBPFDUNet_bs_8_epo_100_lr_0.0005_lambda_10000.0_inEpoch_65_66c0b', device=device.type, drive_path=\"../models\")"
      ],
      "metadata": {
        "id": "z-7oYLsSJjh6"
      },
      "execution_count": 14,
      "outputs": []
    },
    {
      "cell_type": "code",
      "source": [
        "os.environ['WANDB_NOTEBOOK_NAME'] = 'TUPAC_toa'\n",
        "wandb.login()"
      ],
      "metadata": {
        "colab": {
          "base_uri": "https://localhost:8080/"
        },
        "id": "GOmZLWRgYL8-",
        "outputId": "0594660b-eeec-42e2-a879-0d244ff5aa4f"
      },
      "execution_count": 8,
      "outputs": [
        {
          "output_type": "stream",
          "name": "stderr",
          "text": [
            "\u001b[34m\u001b[1mwandb\u001b[0m: \u001b[33mWARNING\u001b[0m WANDB_NOTEBOOK_NAME should be a path to a notebook file, couldn't find TUPAC_toa.\n",
            "\u001b[34m\u001b[1mwandb\u001b[0m: Currently logged in as: \u001b[33mmatipereyra7\u001b[0m. Use \u001b[1m`wandb login --relogin`\u001b[0m to force relogin\n"
          ]
        },
        {
          "output_type": "execute_result",
          "data": {
            "text/plain": [
              "True"
            ]
          },
          "metadata": {},
          "execution_count": 8
        }
      ]
    },
    {
      "cell_type": "code",
      "source": [
        "WANDB_PROJECT = \"my-test-project\"\n",
        "model = None # model_IRMv1"
      ],
      "metadata": {
        "id": "BuFXfVpqNpCL"
      },
      "execution_count": 9,
      "outputs": []
    },
    {
      "cell_type": "code",
      "source": [
        "def log_validation_metrics(model, device, loaders, optimizer, loss_fn, Ao, checkpoint, ckp_last, ckp_best, fecha, loss_name):\n",
        "    valid_loss, env_losses_dict = loader_compute_metrics(model, device, loaders, loss_fn, Ao)\n",
        "    epoch = checkpoint['epoch']\n",
        "    val_metrics = {'validation_loss': valid_loss}\n",
        "    for env, loss in env_losses_dict.items():\n",
        "        metric_name = f\"env_{env}_{loss_name}\"\n",
        "        val_metrics[metric_name] = loss\n",
        "    # log to wandb\n",
        "    wandb.log(val_metrics, step=epoch)\n",
        "    return"
      ],
      "metadata": {
        "id": "RbhvNQOGiHEy"
      },
      "execution_count": 9,
      "outputs": []
    },
    {
      "cell_type": "code",
      "source": [
        "from skimage.metrics import structural_similarity\n",
        "from skimage.metrics import mean_squared_error\n",
        "from skimage.metrics import peak_signal_noise_ratio\n",
        "from scipy.stats import pearsonr\n",
        "\n",
        "get_numpy = lambda x: x.cpu().detach().numpy()\n",
        "normalize = lambda x: (x-x.min())/x.max()\n",
        "def compute_validation_losses(model, loaders):\n",
        "    pc = dict()\n",
        "    ssim = dict()\n",
        "    rmse = dict()\n",
        "    psnr = dict()\n",
        "    for env_i, env_loader in enumerate(loaders):\n",
        "        n = 0\n",
        "        pc[env_i] = 0\n",
        "        ssim[env_i] = 0\n",
        "        rmse[env_i] = 0\n",
        "        psnr[env_i] = 0\n",
        "        for env_batch in iter(env_loader):\n",
        "            input, target = env_batch[0], env_batch[1]\n",
        "            predv = predicting(model, input.to(device), Ao, device)\n",
        "            for i, j in zip(predv, target):\n",
        "                pred_numpy = get_numpy(i)\n",
        "                target_numpy = get_numpy(j)\n",
        "                pc[env_i] += pearsonr(target_numpy.ravel(), pred_numpy.ravel())[0]\n",
        "                ssim[env_i] += structural_similarity(target_numpy, pred_numpy)\n",
        "                rmse[env_i] += mean_squared_error(get_numpy(i), get_numpy(j)) ** 0.5\n",
        "                psnr[env_i] += peak_signal_noise_ratio(normalize(target_numpy), normalize(pred_numpy), data_range=1)\n",
        "                del i, j, pred_numpy, target_numpy\n",
        "                n += 1\n",
        "        pc[env_i] /= n\n",
        "        ssim[env_i] /= n\n",
        "        rmse[env_i] /= n\n",
        "        psnr[env_i] /= n\n",
        "    return pc, ssim, rmse, psnr\n",
        "\n",
        "def compute_total_rmse(model, loaders):\n",
        "    rmse = dict()\n",
        "    n = 0\n",
        "    rmse = 0\n",
        "    for env_i, env_loader in enumerate(loaders):\n",
        "        for env_batch in iter(env_loader):\n",
        "            input, target = env_batch[0], env_batch[1]\n",
        "            predv = predicting(model, input.to(device), Ao, device)\n",
        "            for i, j in zip(predv, target):\n",
        "                pred_numpy = get_numpy(i)\n",
        "                target_numpy = get_numpy(j)\n",
        "                rmse += mean_squared_error(get_numpy(i), get_numpy(j))\n",
        "                del i, j, pred_numpy, target_numpy\n",
        "                n += 1\n",
        "    rmse /= n\n",
        "    return rmse"
      ],
      "metadata": {
        "id": "YtwtTN5OQnCF"
      },
      "execution_count": 10,
      "outputs": []
    },
    {
      "cell_type": "code",
      "source": [
        "b = compute_total_rmse(model_IRMv1, train_loaders)\n",
        "print(b)\n",
        "#c = {\"RMSE\": sum([v for v in b.values()]) / len(b)}\n"
      ],
      "metadata": {
        "colab": {
          "base_uri": "https://localhost:8080/"
        },
        "id": "EhJDq9_bfezH",
        "outputId": "d8869c58-78c9-407c-f2cb-2718f682c8fb"
      },
      "execution_count": 19,
      "outputs": [
        {
          "output_type": "stream",
          "name": "stdout",
          "text": [
            "0.9863628084029314\n"
          ]
        }
      ]
    },
    {
      "cell_type": "code",
      "source": [],
      "metadata": {
        "colab": {
          "base_uri": "https://localhost:8080/"
        },
        "id": "F76TLE5wPCsR",
        "outputId": "932882bb-cd23-4bdc-a430-1afb495577c8"
      },
      "execution_count": 16,
      "outputs": [
        {
          "output_type": "execute_result",
          "data": {
            "text/plain": [
              "0.97215580070634"
            ]
          },
          "metadata": {},
          "execution_count": 16
        }
      ]
    },
    {
      "cell_type": "code",
      "source": [
        "pc, ssim, rmse, psnr = compute_validation_losses(model_IRMv1, val_loaders)\n",
        "metrics_to_log = dict()\n",
        "for metric_dicts in [[\"PC\", pc], [\"SSIM\", ssim], [\"RMSE\", rmse], [\"PSNR\", psnr]]:\n",
        "    for env in range(5):\n",
        "        name, d = metric_dicts[0], metric_dicts[1]\n",
        "        metric_name = f\"env_{env}_{name}\"\n",
        "        metrics_to_log[metric_name] = d[env]\n",
        "metrics_to_log"
      ],
      "metadata": {
        "id": "XLsXNqyVfwBg"
      },
      "execution_count": null,
      "outputs": []
    },
    {
      "cell_type": "code",
      "source": [],
      "metadata": {
        "id": "XAbA9Pqgj_a6"
      },
      "execution_count": 43,
      "outputs": []
    },
    {
      "cell_type": "code",
      "source": [
        "train_rmse = compute_total_rmse(model_IRMv1, train_loaders)\n",
        "test_rmse = compute_total_rmse(model_IRMv1, val_loaders)\n",
        "metrics_to_log = {\"RMSE_train\": train_rmse,\n",
        "                    \"RMSE_test\": test_rmse}\n",
        "metrics_to_log"
      ],
      "metadata": {
        "colab": {
          "base_uri": "https://localhost:8080/"
        },
        "id": "eAEHojrwMRjT",
        "outputId": "9b61ae95-7cd4-46e9-8b79-d26fe78fc1fb"
      },
      "execution_count": 20,
      "outputs": [
        {
          "output_type": "execute_result",
          "data": {
            "text/plain": [
              "{'RMSE_train': 0.9858655251845768, 'RMSE_test': 0.9996089810522013}"
            ]
          },
          "metadata": {},
          "execution_count": 20
        }
      ]
    },
    {
      "cell_type": "code",
      "execution_count": null,
      "metadata": {
        "colab": {
          "base_uri": "https://localhost:8080/",
          "height": 104
        },
        "id": "CIpzc7oQit5a",
        "outputId": "28146efa-39a1-4e9c-e3d5-6a07206b0166"
      },
      "outputs": [
        {
          "output_type": "stream",
          "name": "stdout",
          "text": [
            "Instance new model\n"
          ]
        },
        {
          "output_type": "display_data",
          "data": {
            "text/plain": [
              "<IPython.core.display.HTML object>"
            ],
            "text/html": [
              "Tracking run with wandb version 0.13.4"
            ]
          },
          "metadata": {}
        },
        {
          "output_type": "display_data",
          "data": {
            "text/plain": [
              "<IPython.core.display.HTML object>"
            ],
            "text/html": [
              "Run data is saved locally in <code>/content/drive/MyDrive/Tesis notebooks/TOA_causal/wandb/run-20221030_191004-1pvjyup8</code>"
            ]
          },
          "metadata": {}
        },
        {
          "output_type": "display_data",
          "data": {
            "text/plain": [
              "<IPython.core.display.HTML object>"
            ],
            "text/html": [
              "Syncing run <strong><a href=\"https://wandb.ai/matipereyra7/my-test-project/runs/1pvjyup8\" target=\"_blank\">tricky-gargoyle-47</a></strong> to <a href=\"https://wandb.ai/matipereyra7/my-test-project\" target=\"_blank\">Weights & Biases</a> (<a href=\"https://wandb.me/run\" target=\"_blank\">docs</a>)<br/>"
            ]
          },
          "metadata": {}
        },
        {
          "output_type": "stream",
          "name": "stderr",
          "text": [
            "\r  0%|          | 0/100 [00:00<?, ?it/s]"
          ]
        }
      ],
      "source": [
        "from math import tau\n",
        "\"\"\"alphas = [1e-4,5e-4,1e-3]\n",
        "bs = [1,2,3] # per environment\n",
        "taus = [0.4,0.8]\"\"\"\n",
        "alphas = [5e-4]\n",
        "bs = [2] # per environment\n",
        "#taus = [0.4]\n",
        "taus = [10.0]  # if using IRM, this is irm_lambda, the weight of the IRM term in the loss\n",
        "\n",
        "checkpoint = {'valid_loss_min': np.inf}\n",
        "\n",
        "algorithm = \"IRMv1\"\n",
        "param_dict: dict\n",
        "config = {\n",
        "    \"epochs\": None,\n",
        "    \"batchsize\": None,\n",
        "    \"lr\": None,\n",
        "    \"irm_lambda\": None,\n",
        "}\n",
        "tags = [algorithm, \"mse_loss\"]\n",
        "notes = \"\"\n",
        "\n",
        "penalty_anneal_epochs = -1  # -1 indicates loss will be: loss = (ERM + L2_reg) / irm_lambda + IRM\n",
        "#from train_algorithms.IRMv1.algorithm import build_lambda_map\n",
        "#lambda_map: dict = build_lambda_map()\n",
        "\n",
        "loss_fn = torch.nn.functional.mse_loss\n",
        "#metrics = get_metrics()\n",
        "loss_name = \"MSE\"\n",
        "epoch0 = 0\n",
        "RUN_NAME = f\"inv_lambda_{taus[0]}\"\n",
        "model = None\n",
        "for batchsize in bs:\n",
        "    train_loaders, val_loaders = load_traindataset_v2(cache_dir,val_percent,batchsize,val_batchsize=40,le = le)\n",
        "    for lr in alphas:\n",
        "        for algorithm_param in taus:\n",
        "            if model is None:\n",
        "                print('Instance new model')\n",
        "                model = MBPFDUNet().to(device=device)\n",
        "            else:\n",
        "                print('Using pre-trained model')\n",
        "            checkpoint['state_dict'] = model.state_dict()\n",
        "            optimizer = torch.optim.Adam(model.parameters(),lr=lr)\n",
        "            checkpoint['learning_rate'] = lr\n",
        "            checkpoint['batchsize'] = batchsize\n",
        "            checkpoint['agreement_threshold'] = algorithm_param\n",
        "            checkpoint['optimizer'] = optimizer.state_dict()\n",
        "            checkpoint['epoch'] = epoch0\n",
        "            lr_scheduler = MultiStepLR(optimizer,milestones=[le * epochs * 3 // 4],gamma=0.1)\n",
        "            if algorithm == \"ANDMask\":\n",
        "                param_dict = {'agreement_threshold': algorithm_param,\n",
        "                              'method': 'and_mask',\n",
        "                              'scale_grad_inverse_sparsity': 1}\n",
        "            elif algorithm == \"IRMv1\":\n",
        "                param_dict = {'irm_lambda': algorithm_param,\n",
        "                              'penalty_anneal_epochs': penalty_anneal_epochs,\n",
        "                              \"l2_reg\": 0.00005}\n",
        "                #param_dict = {'use_epoch_lambda_map': True,\n",
        "                #              'epoch_lambda_map': lambda_map,\n",
        "                #              'l2_reg': 0.001}\n",
        "                config = {\n",
        "                    \"epochs\": epochs,\n",
        "                    \"batchsize\": bs,\n",
        "                    \"lr\": lr,\n",
        "                    \"l2_reg\": 0.00005,\n",
        "                    #\"irm_lambda\": lambda_map,\n",
        "                    \"irm_lambda\": algorithm_param,\n",
        "                    \"penalty_anneal_epochs\": penalty_anneal_epochs\n",
        "                }\n",
        "            run = wandb.init(project=WANDB_PROJECT, config=config, tags=tags, notes=notes)\n",
        "            run.name = RUN_NAME\n",
        "            for epoch in tqdm(range(epoch0 + 1, epochs + 1)):\n",
        "                train(model, device, train_loaders, optimizer, n_agreement_envs=le, Ao=Ao, loss_fn=loss_fn,\n",
        "                          scheduler=lr_scheduler, epoch=epoch, algorithm=algorithm, **param_dict)\n",
        "                checkpoint['epoch'] = epoch\n",
        "                \n",
        "                train_rmse = compute_total_rmse(model, train_loaders)\n",
        "                test_rmse = compute_total_rmse(model, val_loaders)\n",
        "                metrics_to_log = {\"RMSE_train\": train_rmse,\n",
        "                                  \"RMSE_test\": test_rmse}\n",
        "\n",
        "                \"\"\"pc, ssim, rmse, psnr = compute_validation_losses(model, val_loaders)\n",
        "                metrics_to_log = dict()\n",
        "                for metric_dicts in [[\"PC\", pc], [\"SSIM\", ssim], [\"RMSE\", rmse], [\"PSNR\", psnr]]:\n",
        "                    for env in range(5):\n",
        "                        name, d = metric_dicts[0], metric_dicts[1]\n",
        "                        metric_name = f\"validation_env_{env}_{name}\"\n",
        "                        metrics_to_log[metric_name] = d[env]\n",
        "                \"\"\"\n",
        "                wandb.log(metrics_to_log)\n",
        "\n",
        "                if epoch in [10, 20, 30, 35, 40, 45, 50, 55, 60, 65, 70, 75, 80, 85, 90, 95, 100] and in_colab:\n",
        "                    name = f\"MBPFDUNet_bs_{batchsize}_epo_{epochs}_lr_{lr}_lambda_{algorithm_param}_inEpoch_{epoch}\"\n",
        "                    name += \"_\" + str(uuid.uuid1())[:5]\n",
        "                    save_model(model, name=name, drive_path=\"../models\")\n",
        "            run.finish()\n",
        "            if in_colab:\n",
        "                name = f\"MBPFDUNet_bs_{batchsize}_epo_{epochs}_lr_{lr}_lambda_{algorithm_param}_inEpoch_{epoch}\"\n",
        "                name += \"_\" + str(uuid.uuid1())[:5]\n",
        "                save_model(model, name=name, drive_path=\"../models\")"
      ]
    },
    {
      "cell_type": "code",
      "source": [
        "# %wandb version\n",
        "run.finish()"
      ],
      "metadata": {
        "id": "J8DiSR9bdlWK",
        "colab": {
          "base_uri": "https://localhost:8080/",
          "height": 397,
          "referenced_widgets": [
            "f2ec5bd93cbd4243a2f2c6d6296eebe9",
            "85f7b8379eda4ef1babbca264326b00f",
            "312b151ea6594287b422169b89707ee8",
            "200e288580bb4b808060a9fb07fcd0e6",
            "296a851d22e54e11b7dad5956928c92c",
            "f01d5539ab2d496f87548ad921367d46",
            "05f9f49d44f440bc8c0834a2ebb5953c",
            "7cbcc5f687bc4fd294a0c8b967e054c8"
          ]
        },
        "outputId": "946d1861-b0f5-410a-dd95-87fec5de6b46"
      },
      "execution_count": 18,
      "outputs": [
        {
          "output_type": "display_data",
          "data": {
            "text/plain": [
              "<IPython.core.display.HTML object>"
            ],
            "text/html": [
              "Waiting for W&B process to finish... <strong style=\"color:green\">(success).</strong>"
            ]
          },
          "metadata": {}
        },
        {
          "output_type": "display_data",
          "data": {
            "text/plain": [
              "VBox(children=(Label(value='0.001 MB of 0.009 MB uploaded (0.000 MB deduped)\\r'), FloatProgress(value=0.073904…"
            ],
            "application/vnd.jupyter.widget-view+json": {
              "version_major": 2,
              "version_minor": 0,
              "model_id": "f2ec5bd93cbd4243a2f2c6d6296eebe9"
            }
          },
          "metadata": {}
        },
        {
          "output_type": "display_data",
          "data": {
            "text/plain": [
              "<IPython.core.display.HTML object>"
            ],
            "text/html": [
              "<style>\n",
              "    table.wandb td:nth-child(1) { padding: 0 10px; text-align: left ; width: auto;} td:nth-child(2) {text-align: left ; width: 100%}\n",
              "    .wandb-row { display: flex; flex-direction: row; flex-wrap: wrap; justify-content: flex-start; width: 100% }\n",
              "    .wandb-col { display: flex; flex-direction: column; flex-basis: 100%; flex: 1; padding: 10px; }\n",
              "    </style>\n",
              "<div class=\"wandb-row\"><div class=\"wandb-col\"><h3>Run history:</h3><br/><table class=\"wandb\"><tr><td>ERM_term</td><td>▅█▃▃▂▁▁</td></tr><tr><td>IRM_term</td><td>▆█▂▃▂▁▁</td></tr><tr><td>L2_reg_term</td><td>█▇▆▅▄▂▁</td></tr><tr><td>PC_batch_mean</td><td>▇▇▁▇█▃▇</td></tr><tr><td>PSNR_batch_mean</td><td>▇▃▂█▇▁▅</td></tr><tr><td>RMSE_batch_mean</td><td>▂▆▆▁▂█▄</td></tr><tr><td>SSIM_batch_mean</td><td>▅▁▆█▅▅▂</td></tr></table><br/></div><div class=\"wandb-col\"><h3>Run summary:</h3><br/><table class=\"wandb\"><tr><td>ERM_term</td><td>2.63526</td></tr><tr><td>IRM_term</td><td>6.31851</td></tr><tr><td>L2_reg_term</td><td>115.78808</td></tr><tr><td>PC_batch_mean</td><td>0.61158</td></tr><tr><td>PSNR_batch_mean</td><td>6.63761</td></tr><tr><td>RMSE_batch_mean</td><td>0.4757</td></tr><tr><td>SSIM_batch_mean</td><td>-0.09666</td></tr></table><br/></div></div>"
            ]
          },
          "metadata": {}
        },
        {
          "output_type": "display_data",
          "data": {
            "text/plain": [
              "<IPython.core.display.HTML object>"
            ],
            "text/html": [
              "Synced <strong style=\"color:#cdcd00\">earthy-serenity-42</strong>: <a href=\"https://wandb.ai/matipereyra7/my-test-project/runs/373pj3bm\" target=\"_blank\">https://wandb.ai/matipereyra7/my-test-project/runs/373pj3bm</a><br/>Synced 5 W&B file(s), 0 media file(s), 0 artifact file(s) and 0 other file(s)"
            ]
          },
          "metadata": {}
        },
        {
          "output_type": "display_data",
          "data": {
            "text/plain": [
              "<IPython.core.display.HTML object>"
            ],
            "text/html": [
              "Find logs at: <code>./wandb/run-20221024_042456-373pj3bm/logs</code>"
            ]
          },
          "metadata": {}
        }
      ]
    },
    {
      "cell_type": "code",
      "source": [
        "wandb.login(relogin=True)"
      ],
      "metadata": {
        "colab": {
          "base_uri": "https://localhost:8080/",
          "height": 69
        },
        "id": "sSyiW5dWNsp6",
        "outputId": "db42e586-4977-4dfc-c215-171b0c81a5d7"
      },
      "execution_count": null,
      "outputs": [
        {
          "output_type": "display_data",
          "data": {
            "text/plain": [
              "<IPython.core.display.Javascript object>"
            ],
            "application/javascript": [
              "\n",
              "        window._wandbApiKey = new Promise((resolve, reject) => {\n",
              "            function loadScript(url) {\n",
              "            return new Promise(function(resolve, reject) {\n",
              "                let newScript = document.createElement(\"script\");\n",
              "                newScript.onerror = reject;\n",
              "                newScript.onload = resolve;\n",
              "                document.body.appendChild(newScript);\n",
              "                newScript.src = url;\n",
              "            });\n",
              "            }\n",
              "            loadScript(\"https://cdn.jsdelivr.net/npm/postmate/build/postmate.min.js\").then(() => {\n",
              "            const iframe = document.createElement('iframe')\n",
              "            iframe.style.cssText = \"width:0;height:0;border:none\"\n",
              "            document.body.appendChild(iframe)\n",
              "            const handshake = new Postmate({\n",
              "                container: iframe,\n",
              "                url: 'https://wandb.ai/authorize'\n",
              "            });\n",
              "            const timeout = setTimeout(() => reject(\"Couldn't auto authenticate\"), 5000)\n",
              "            handshake.then(function(child) {\n",
              "                child.on('authorize', data => {\n",
              "                    clearTimeout(timeout)\n",
              "                    resolve(data)\n",
              "                });\n",
              "            });\n",
              "            })\n",
              "        });\n",
              "    "
            ]
          },
          "metadata": {}
        },
        {
          "output_type": "stream",
          "name": "stderr",
          "text": [
            "\u001b[34m\u001b[1mwandb\u001b[0m: Appending key for api.wandb.ai to your netrc file: /root/.netrc\n"
          ]
        },
        {
          "output_type": "execute_result",
          "data": {
            "text/plain": [
              "True"
            ]
          },
          "metadata": {},
          "execution_count": 28
        }
      ]
    },
    {
      "cell_type": "code",
      "execution_count": null,
      "metadata": {
        "id": "etc3o2Wcit5b"
      },
      "outputs": [],
      "source": [
        "model, optimizer, best_epoch, valid_loss_min, best_lr, best_bs, best_threshold = load_ckp(ckp_best, model, optimizer)"
      ]
    },
    {
      "cell_type": "code",
      "execution_count": null,
      "metadata": {
        "id": "IG4Q9RHbit5c"
      },
      "outputs": [],
      "source": [
        "#from importlib import reload \n",
        "#import utils.noncausal_utils \n",
        "#reload(utils.noncausal_utils)\n",
        "#from utils.noncausal_utils import train_nc"
      ]
    },
    {
      "cell_type": "code",
      "source": [
        "alphas = [5e-4]\n",
        "bs = [10] # per environment\n",
        "taus = [0.8]"
      ],
      "metadata": {
        "id": "iFS6NJ72A28-"
      },
      "execution_count": null,
      "outputs": []
    },
    {
      "cell_type": "code",
      "execution_count": null,
      "metadata": {
        "colab": {
          "base_uri": "https://localhost:8080/",
          "height": 488
        },
        "id": "yu-7OQ-8it5m",
        "outputId": "01d0038e-237a-483e-f43e-4cf688417c26"
      },
      "outputs": [
        {
          "output_type": "stream",
          "name": "stderr",
          "text": [
            "  1%|          | 1/100 [31:19<51:41:28, 1879.68s/it]\n"
          ]
        },
        {
          "output_type": "error",
          "ename": "KeyboardInterrupt",
          "evalue": "ignored",
          "traceback": [
            "\u001b[0;31m---------------------------------------------------------------------------\u001b[0m",
            "\u001b[0;31mKeyboardInterrupt\u001b[0m                         Traceback (most recent call last)",
            "\u001b[0;32m<ipython-input-9-dbc2b3928dea>\u001b[0m in \u001b[0;36m<module>\u001b[0;34m\u001b[0m\n\u001b[1;32m     15\u001b[0m         \u001b[0mlr_scheduler_nc\u001b[0m \u001b[0;34m=\u001b[0m \u001b[0mMultiStepLR\u001b[0m\u001b[0;34m(\u001b[0m\u001b[0moptimizer_nc\u001b[0m\u001b[0;34m,\u001b[0m\u001b[0mmilestones\u001b[0m\u001b[0;34m=\u001b[0m\u001b[0;34m[\u001b[0m\u001b[0mle\u001b[0m \u001b[0;34m*\u001b[0m \u001b[0mepochs\u001b[0m \u001b[0;34m*\u001b[0m \u001b[0;36m3\u001b[0m \u001b[0;34m//\u001b[0m \u001b[0;36m4\u001b[0m\u001b[0;34m]\u001b[0m\u001b[0;34m,\u001b[0m\u001b[0mgamma\u001b[0m\u001b[0;34m=\u001b[0m\u001b[0;36m0.1\u001b[0m\u001b[0;34m)\u001b[0m\u001b[0;34m\u001b[0m\u001b[0;34m\u001b[0m\u001b[0m\n\u001b[1;32m     16\u001b[0m         \u001b[0;32mfor\u001b[0m \u001b[0mepoch\u001b[0m \u001b[0;32min\u001b[0m \u001b[0mtqdm\u001b[0m\u001b[0;34m(\u001b[0m\u001b[0mrange\u001b[0m\u001b[0;34m(\u001b[0m\u001b[0mepoch0\u001b[0m \u001b[0;34m+\u001b[0m \u001b[0;36m1\u001b[0m\u001b[0;34m,\u001b[0m \u001b[0mepochs\u001b[0m \u001b[0;34m+\u001b[0m \u001b[0;36m1\u001b[0m\u001b[0;34m)\u001b[0m\u001b[0;34m)\u001b[0m\u001b[0;34m:\u001b[0m\u001b[0;34m\u001b[0m\u001b[0;34m\u001b[0m\u001b[0m\n\u001b[0;32m---> 17\u001b[0;31m             \u001b[0mtrain_nc\u001b[0m\u001b[0;34m(\u001b[0m\u001b[0mmodel_nc\u001b[0m\u001b[0;34m,\u001b[0m\u001b[0mdevice\u001b[0m\u001b[0;34m,\u001b[0m\u001b[0mtrain_loader_nc\u001b[0m\u001b[0;34m,\u001b[0m\u001b[0moptimizer_nc\u001b[0m\u001b[0;34m,\u001b[0m\u001b[0mAo\u001b[0m\u001b[0;34m=\u001b[0m\u001b[0mAo\u001b[0m\u001b[0;34m,\u001b[0m\u001b[0mloss_fn\u001b[0m\u001b[0;34m=\u001b[0m\u001b[0mloss_fn\u001b[0m\u001b[0;34m,\u001b[0m\u001b[0mscheduler\u001b[0m\u001b[0;34m=\u001b[0m\u001b[0mlr_scheduler_nc\u001b[0m\u001b[0;34m)\u001b[0m\u001b[0;34m\u001b[0m\u001b[0;34m\u001b[0m\u001b[0m\n\u001b[0m\u001b[1;32m     18\u001b[0m             \u001b[0mcheckpoint_nc\u001b[0m\u001b[0;34m[\u001b[0m\u001b[0;34m'epoch'\u001b[0m\u001b[0;34m]\u001b[0m \u001b[0;34m=\u001b[0m \u001b[0mepoch\u001b[0m\u001b[0;34m\u001b[0m\u001b[0;34m\u001b[0m\u001b[0m\n\u001b[1;32m     19\u001b[0m             \u001b[0mcheckpoint_nc\u001b[0m\u001b[0;34m[\u001b[0m\u001b[0;34m'valid_loss_min'\u001b[0m\u001b[0;34m]\u001b[0m \u001b[0;34m=\u001b[0m \u001b[0mvalidation\u001b[0m\u001b[0;34m(\u001b[0m\u001b[0mmodel_nc\u001b[0m\u001b[0;34m,\u001b[0m \u001b[0mdevice\u001b[0m\u001b[0;34m,\u001b[0m \u001b[0mval_loader_nc\u001b[0m\u001b[0;34m,\u001b[0m \u001b[0moptimizer_nc\u001b[0m\u001b[0;34m,\u001b[0m \u001b[0mloss_fn\u001b[0m\u001b[0;34m,\u001b[0m \u001b[0mAo\u001b[0m\u001b[0;34m,\u001b[0m \u001b[0mcheckpoint_nc\u001b[0m\u001b[0;34m,\u001b[0m \u001b[0mckp_benchmark_last\u001b[0m\u001b[0;34m,\u001b[0m \u001b[0mckp_benchmark_best\u001b[0m\u001b[0;34m,\u001b[0m \u001b[0mfecha\u001b[0m\u001b[0;34m)\u001b[0m\u001b[0;34m\u001b[0m\u001b[0;34m\u001b[0m\u001b[0m\n",
            "\u001b[0;32m/content/drive/My Drive/Tesis notebooks/TOA_causal/utils/noncausal_utils.py\u001b[0m in \u001b[0;36mtrain_nc\u001b[0;34m(model, device, train_loader, optimizer, Ao, loss_fn, scheduler)\u001b[0m\n\u001b[1;32m     41\u001b[0m             \u001b[0;32mbreak\u001b[0m\u001b[0;34m\u001b[0m\u001b[0;34m\u001b[0m\u001b[0m\n\u001b[1;32m     42\u001b[0m         \u001b[0moptimizer\u001b[0m\u001b[0;34m.\u001b[0m\u001b[0mzero_grad\u001b[0m\u001b[0;34m(\u001b[0m\u001b[0;34m)\u001b[0m\u001b[0;34m\u001b[0m\u001b[0;34m\u001b[0m\u001b[0m\n\u001b[0;32m---> 43\u001b[0;31m         \u001b[0mpredt\u001b[0m \u001b[0;34m=\u001b[0m \u001b[0mpredicting\u001b[0m\u001b[0;34m(\u001b[0m\u001b[0mmodel\u001b[0m\u001b[0;34m,\u001b[0m \u001b[0mdatas\u001b[0m\u001b[0;34m[\u001b[0m\u001b[0;36m0\u001b[0m\u001b[0;34m]\u001b[0m\u001b[0;34m.\u001b[0m\u001b[0mto\u001b[0m\u001b[0;34m(\u001b[0m\u001b[0mdevice\u001b[0m\u001b[0;34m)\u001b[0m\u001b[0;34m,\u001b[0m \u001b[0mAo\u001b[0m\u001b[0;34m,\u001b[0m \u001b[0mdevice\u001b[0m\u001b[0;34m)\u001b[0m\u001b[0;34m\u001b[0m\u001b[0;34m\u001b[0m\u001b[0m\n\u001b[0m\u001b[1;32m     44\u001b[0m         \u001b[0mmean_loss\u001b[0m \u001b[0;34m=\u001b[0m \u001b[0mloss_fn\u001b[0m\u001b[0;34m(\u001b[0m\u001b[0mpredt\u001b[0m\u001b[0;34m,\u001b[0m \u001b[0mdatas\u001b[0m\u001b[0;34m[\u001b[0m\u001b[0;36m1\u001b[0m\u001b[0;34m]\u001b[0m\u001b[0;34m.\u001b[0m\u001b[0mto\u001b[0m\u001b[0;34m(\u001b[0m\u001b[0mdevice\u001b[0m\u001b[0;34m)\u001b[0m\u001b[0;34m)\u001b[0m\u001b[0;34m\u001b[0m\u001b[0;34m\u001b[0m\u001b[0m\n\u001b[1;32m     45\u001b[0m         \u001b[0mmean_loss\u001b[0m\u001b[0;34m.\u001b[0m\u001b[0mbackward\u001b[0m\u001b[0;34m(\u001b[0m\u001b[0;34m)\u001b[0m\u001b[0;34m\u001b[0m\u001b[0;34m\u001b[0m\u001b[0m\n",
            "\u001b[0;32m/content/drive/My Drive/Tesis notebooks/TOA_causal/utils/causal_utils.py\u001b[0m in \u001b[0;36mpredicting\u001b[0;34m(net, input, Ao, device)\u001b[0m\n\u001b[1;32m     75\u001b[0m     \u001b[0mDg\u001b[0m \u001b[0;34m=\u001b[0m \u001b[0mg1\u001b[0m \u001b[0;34m-\u001b[0m \u001b[0mx\u001b[0m \u001b[0;31m# (-1,1,128,512)\u001b[0m\u001b[0;34m\u001b[0m\u001b[0;34m\u001b[0m\u001b[0m\n\u001b[1;32m     76\u001b[0m     \u001b[0mDf\u001b[0m \u001b[0;34m=\u001b[0m \u001b[0mapplyInvMat\u001b[0m\u001b[0;34m(\u001b[0m\u001b[0mDg\u001b[0m\u001b[0;34m,\u001b[0m\u001b[0mAo\u001b[0m\u001b[0;34m,\u001b[0m\u001b[0mdimS\u001b[0m\u001b[0;34m,\u001b[0m\u001b[0mdimI\u001b[0m\u001b[0;34m)\u001b[0m \u001b[0;31m# (-1,1,64,64)\u001b[0m\u001b[0;34m\u001b[0m\u001b[0;34m\u001b[0m\u001b[0m\n\u001b[0;32m---> 77\u001b[0;31m     \u001b[0mpred\u001b[0m \u001b[0;34m=\u001b[0m \u001b[0mnet\u001b[0m\u001b[0;34m.\u001b[0m\u001b[0mto\u001b[0m\u001b[0;34m(\u001b[0m\u001b[0mdevice\u001b[0m\u001b[0;34m=\u001b[0m\u001b[0mdevice\u001b[0m\u001b[0;34m)\u001b[0m\u001b[0;34m(\u001b[0m\u001b[0mf0\u001b[0m\u001b[0;34m,\u001b[0m\u001b[0mDf\u001b[0m\u001b[0;34m)\u001b[0m\u001b[0;34m\u001b[0m\u001b[0;34m\u001b[0m\u001b[0m\n\u001b[0m\u001b[1;32m     78\u001b[0m     \u001b[0;32mreturn\u001b[0m \u001b[0mtorch\u001b[0m\u001b[0;34m.\u001b[0m\u001b[0msqueeze\u001b[0m\u001b[0;34m(\u001b[0m\u001b[0mpred\u001b[0m\u001b[0;34m,\u001b[0m\u001b[0;36m1\u001b[0m\u001b[0;34m)\u001b[0m\u001b[0;34m\u001b[0m\u001b[0;34m\u001b[0m\u001b[0m\n\u001b[1;32m     79\u001b[0m \u001b[0;34m\u001b[0m\u001b[0m\n",
            "\u001b[0;32m/usr/local/lib/python3.7/dist-packages/torch/nn/modules/module.py\u001b[0m in \u001b[0;36m_call_impl\u001b[0;34m(self, *input, **kwargs)\u001b[0m\n\u001b[1;32m   1128\u001b[0m         if not (self._backward_hooks or self._forward_hooks or self._forward_pre_hooks or _global_backward_hooks\n\u001b[1;32m   1129\u001b[0m                 or _global_forward_hooks or _global_forward_pre_hooks):\n\u001b[0;32m-> 1130\u001b[0;31m             \u001b[0;32mreturn\u001b[0m \u001b[0mforward_call\u001b[0m\u001b[0;34m(\u001b[0m\u001b[0;34m*\u001b[0m\u001b[0minput\u001b[0m\u001b[0;34m,\u001b[0m \u001b[0;34m**\u001b[0m\u001b[0mkwargs\u001b[0m\u001b[0;34m)\u001b[0m\u001b[0;34m\u001b[0m\u001b[0;34m\u001b[0m\u001b[0m\n\u001b[0m\u001b[1;32m   1131\u001b[0m         \u001b[0;31m# Do not call functions when jit is used\u001b[0m\u001b[0;34m\u001b[0m\u001b[0;34m\u001b[0m\u001b[0;34m\u001b[0m\u001b[0m\n\u001b[1;32m   1132\u001b[0m         \u001b[0mfull_backward_hooks\u001b[0m\u001b[0;34m,\u001b[0m \u001b[0mnon_full_backward_hooks\u001b[0m \u001b[0;34m=\u001b[0m \u001b[0;34m[\u001b[0m\u001b[0;34m]\u001b[0m\u001b[0;34m,\u001b[0m \u001b[0;34m[\u001b[0m\u001b[0;34m]\u001b[0m\u001b[0;34m\u001b[0m\u001b[0;34m\u001b[0m\u001b[0m\n",
            "\u001b[0;32m/content/drive/My Drive/Tesis notebooks/TOA_causal/TOA/mbfdunetln.py\u001b[0m in \u001b[0;36mforward\u001b[0;34m(self, f0, Df)\u001b[0m\n\u001b[1;32m    129\u001b[0m     \u001b[0;32mdef\u001b[0m \u001b[0mforward\u001b[0m\u001b[0;34m(\u001b[0m\u001b[0mself\u001b[0m\u001b[0;34m,\u001b[0m \u001b[0mf0\u001b[0m\u001b[0;34m,\u001b[0m \u001b[0mDf\u001b[0m\u001b[0;34m)\u001b[0m\u001b[0;34m:\u001b[0m\u001b[0;34m\u001b[0m\u001b[0;34m\u001b[0m\u001b[0m\n\u001b[1;32m    130\u001b[0m \u001b[0;34m\u001b[0m\u001b[0m\n\u001b[0;32m--> 131\u001b[0;31m         \u001b[0mf1\u001b[0m \u001b[0;34m=\u001b[0m \u001b[0mself\u001b[0m\u001b[0;34m.\u001b[0m\u001b[0mfdunetblock\u001b[0m\u001b[0;34m(\u001b[0m\u001b[0mf0\u001b[0m\u001b[0;34m,\u001b[0m\u001b[0mDf\u001b[0m\u001b[0;34m)\u001b[0m \u001b[0;31m# (-1,1,64,64)\u001b[0m\u001b[0;34m\u001b[0m\u001b[0;34m\u001b[0m\u001b[0m\n\u001b[0m\u001b[1;32m    132\u001b[0m         \u001b[0my\u001b[0m \u001b[0;34m=\u001b[0m \u001b[0mf1\u001b[0m \u001b[0;31m# (-1,1,64,64)\u001b[0m\u001b[0;34m\u001b[0m\u001b[0;34m\u001b[0m\u001b[0m\n\u001b[1;32m    133\u001b[0m \u001b[0;34m\u001b[0m\u001b[0m\n",
            "\u001b[0;32m/usr/local/lib/python3.7/dist-packages/torch/nn/modules/module.py\u001b[0m in \u001b[0;36m_call_impl\u001b[0;34m(self, *input, **kwargs)\u001b[0m\n\u001b[1;32m   1128\u001b[0m         if not (self._backward_hooks or self._forward_hooks or self._forward_pre_hooks or _global_backward_hooks\n\u001b[1;32m   1129\u001b[0m                 or _global_forward_hooks or _global_forward_pre_hooks):\n\u001b[0;32m-> 1130\u001b[0;31m             \u001b[0;32mreturn\u001b[0m \u001b[0mforward_call\u001b[0m\u001b[0;34m(\u001b[0m\u001b[0;34m*\u001b[0m\u001b[0minput\u001b[0m\u001b[0;34m,\u001b[0m \u001b[0;34m**\u001b[0m\u001b[0mkwargs\u001b[0m\u001b[0;34m)\u001b[0m\u001b[0;34m\u001b[0m\u001b[0;34m\u001b[0m\u001b[0m\n\u001b[0m\u001b[1;32m   1131\u001b[0m         \u001b[0;31m# Do not call functions when jit is used\u001b[0m\u001b[0;34m\u001b[0m\u001b[0;34m\u001b[0m\u001b[0;34m\u001b[0m\u001b[0m\n\u001b[1;32m   1132\u001b[0m         \u001b[0mfull_backward_hooks\u001b[0m\u001b[0;34m,\u001b[0m \u001b[0mnon_full_backward_hooks\u001b[0m \u001b[0;34m=\u001b[0m \u001b[0;34m[\u001b[0m\u001b[0;34m]\u001b[0m\u001b[0;34m,\u001b[0m \u001b[0;34m[\u001b[0m\u001b[0;34m]\u001b[0m\u001b[0;34m\u001b[0m\u001b[0;34m\u001b[0m\u001b[0m\n",
            "\u001b[0;32m/content/drive/My Drive/Tesis notebooks/TOA_causal/TOA/mbfdunetln.py\u001b[0m in \u001b[0;36mforward\u001b[0;34m(self, xi1, xi2)\u001b[0m\n\u001b[1;32m    114\u001b[0m         \u001b[0mx8\u001b[0m \u001b[0;34m=\u001b[0m \u001b[0mself\u001b[0m\u001b[0;34m.\u001b[0m\u001b[0mdb8\u001b[0m\u001b[0;34m(\u001b[0m\u001b[0mx8\u001b[0m\u001b[0;34m)\u001b[0m \u001b[0;31m# (-1,128,32,32)\u001b[0m\u001b[0;34m\u001b[0m\u001b[0;34m\u001b[0m\u001b[0m\n\u001b[1;32m    115\u001b[0m         \u001b[0mx9\u001b[0m \u001b[0;34m=\u001b[0m \u001b[0mself\u001b[0m\u001b[0;34m.\u001b[0m\u001b[0mup4\u001b[0m\u001b[0;34m(\u001b[0m\u001b[0mx8\u001b[0m\u001b[0;34m,\u001b[0m\u001b[0mx1\u001b[0m\u001b[0;34m)\u001b[0m \u001b[0;31m# (-1,32,64,64)\u001b[0m\u001b[0;34m\u001b[0m\u001b[0;34m\u001b[0m\u001b[0m\n\u001b[0;32m--> 116\u001b[0;31m         \u001b[0mx9\u001b[0m \u001b[0;34m=\u001b[0m \u001b[0mself\u001b[0m\u001b[0;34m.\u001b[0m\u001b[0mdb9\u001b[0m\u001b[0;34m(\u001b[0m\u001b[0mx9\u001b[0m\u001b[0;34m)\u001b[0m \u001b[0;31m# (-1,64,64,64)\u001b[0m\u001b[0;34m\u001b[0m\u001b[0;34m\u001b[0m\u001b[0m\n\u001b[0m\u001b[1;32m    117\u001b[0m         \u001b[0mx10\u001b[0m \u001b[0;34m=\u001b[0m \u001b[0mself\u001b[0m\u001b[0;34m.\u001b[0m\u001b[0mconv2\u001b[0m\u001b[0;34m(\u001b[0m\u001b[0mx9\u001b[0m\u001b[0;34m)\u001b[0m \u001b[0;31m# (-1,1,64,64)\u001b[0m\u001b[0;34m\u001b[0m\u001b[0;34m\u001b[0m\u001b[0m\n\u001b[1;32m    118\u001b[0m \u001b[0;34m\u001b[0m\u001b[0m\n",
            "\u001b[0;32m/usr/local/lib/python3.7/dist-packages/torch/nn/modules/module.py\u001b[0m in \u001b[0;36m_call_impl\u001b[0;34m(self, *input, **kwargs)\u001b[0m\n\u001b[1;32m   1128\u001b[0m         if not (self._backward_hooks or self._forward_hooks or self._forward_pre_hooks or _global_backward_hooks\n\u001b[1;32m   1129\u001b[0m                 or _global_forward_hooks or _global_forward_pre_hooks):\n\u001b[0;32m-> 1130\u001b[0;31m             \u001b[0;32mreturn\u001b[0m \u001b[0mforward_call\u001b[0m\u001b[0;34m(\u001b[0m\u001b[0;34m*\u001b[0m\u001b[0minput\u001b[0m\u001b[0;34m,\u001b[0m \u001b[0;34m**\u001b[0m\u001b[0mkwargs\u001b[0m\u001b[0;34m)\u001b[0m\u001b[0;34m\u001b[0m\u001b[0;34m\u001b[0m\u001b[0m\n\u001b[0m\u001b[1;32m   1131\u001b[0m         \u001b[0;31m# Do not call functions when jit is used\u001b[0m\u001b[0;34m\u001b[0m\u001b[0;34m\u001b[0m\u001b[0;34m\u001b[0m\u001b[0m\n\u001b[1;32m   1132\u001b[0m         \u001b[0mfull_backward_hooks\u001b[0m\u001b[0;34m,\u001b[0m \u001b[0mnon_full_backward_hooks\u001b[0m \u001b[0;34m=\u001b[0m \u001b[0;34m[\u001b[0m\u001b[0;34m]\u001b[0m\u001b[0;34m,\u001b[0m \u001b[0;34m[\u001b[0m\u001b[0;34m]\u001b[0m\u001b[0;34m\u001b[0m\u001b[0;34m\u001b[0m\u001b[0m\n",
            "\u001b[0;32m/content/drive/My Drive/Tesis notebooks/TOA_causal/TOA/mbfdunetln.py\u001b[0m in \u001b[0;36mforward\u001b[0;34m(self, x)\u001b[0m\n\u001b[1;32m     48\u001b[0m         \u001b[0mx3\u001b[0m \u001b[0;34m=\u001b[0m \u001b[0mself\u001b[0m\u001b[0;34m.\u001b[0m\u001b[0mdl3\u001b[0m\u001b[0;34m(\u001b[0m\u001b[0mx3\u001b[0m\u001b[0;34m)\u001b[0m\u001b[0;34m\u001b[0m\u001b[0;34m\u001b[0m\u001b[0m\n\u001b[1;32m     49\u001b[0m         \u001b[0mx4\u001b[0m \u001b[0;34m=\u001b[0m \u001b[0mtorch\u001b[0m\u001b[0;34m.\u001b[0m\u001b[0mcat\u001b[0m\u001b[0;34m(\u001b[0m\u001b[0;34m[\u001b[0m\u001b[0mx\u001b[0m\u001b[0;34m,\u001b[0m \u001b[0mx1\u001b[0m\u001b[0;34m,\u001b[0m \u001b[0mx2\u001b[0m\u001b[0;34m,\u001b[0m \u001b[0mx3\u001b[0m\u001b[0;34m]\u001b[0m\u001b[0;34m,\u001b[0m \u001b[0mdim\u001b[0m\u001b[0;34m=\u001b[0m\u001b[0;36m1\u001b[0m\u001b[0;34m)\u001b[0m\u001b[0;34m\u001b[0m\u001b[0;34m\u001b[0m\u001b[0m\n\u001b[0;32m---> 50\u001b[0;31m         \u001b[0mx4\u001b[0m \u001b[0;34m=\u001b[0m \u001b[0mself\u001b[0m\u001b[0;34m.\u001b[0m\u001b[0mdl4\u001b[0m\u001b[0;34m(\u001b[0m\u001b[0mx4\u001b[0m\u001b[0;34m)\u001b[0m\u001b[0;34m\u001b[0m\u001b[0;34m\u001b[0m\u001b[0m\n\u001b[0m\u001b[1;32m     51\u001b[0m         \u001b[0mx5\u001b[0m \u001b[0;34m=\u001b[0m \u001b[0mtorch\u001b[0m\u001b[0;34m.\u001b[0m\u001b[0mcat\u001b[0m\u001b[0;34m(\u001b[0m\u001b[0;34m[\u001b[0m\u001b[0mx\u001b[0m\u001b[0;34m,\u001b[0m \u001b[0mx1\u001b[0m\u001b[0;34m,\u001b[0m \u001b[0mx2\u001b[0m\u001b[0;34m,\u001b[0m \u001b[0mx3\u001b[0m\u001b[0;34m,\u001b[0m \u001b[0mx4\u001b[0m\u001b[0;34m]\u001b[0m\u001b[0;34m,\u001b[0m \u001b[0mdim\u001b[0m\u001b[0;34m=\u001b[0m\u001b[0;36m1\u001b[0m\u001b[0;34m)\u001b[0m\u001b[0;34m\u001b[0m\u001b[0;34m\u001b[0m\u001b[0m\n\u001b[1;32m     52\u001b[0m \u001b[0;34m\u001b[0m\u001b[0m\n",
            "\u001b[0;32m/usr/local/lib/python3.7/dist-packages/torch/nn/modules/module.py\u001b[0m in \u001b[0;36m_call_impl\u001b[0;34m(self, *input, **kwargs)\u001b[0m\n\u001b[1;32m   1128\u001b[0m         if not (self._backward_hooks or self._forward_hooks or self._forward_pre_hooks or _global_backward_hooks\n\u001b[1;32m   1129\u001b[0m                 or _global_forward_hooks or _global_forward_pre_hooks):\n\u001b[0;32m-> 1130\u001b[0;31m             \u001b[0;32mreturn\u001b[0m \u001b[0mforward_call\u001b[0m\u001b[0;34m(\u001b[0m\u001b[0;34m*\u001b[0m\u001b[0minput\u001b[0m\u001b[0;34m,\u001b[0m \u001b[0;34m**\u001b[0m\u001b[0mkwargs\u001b[0m\u001b[0;34m)\u001b[0m\u001b[0;34m\u001b[0m\u001b[0;34m\u001b[0m\u001b[0m\n\u001b[0m\u001b[1;32m   1131\u001b[0m         \u001b[0;31m# Do not call functions when jit is used\u001b[0m\u001b[0;34m\u001b[0m\u001b[0;34m\u001b[0m\u001b[0;34m\u001b[0m\u001b[0m\n\u001b[1;32m   1132\u001b[0m         \u001b[0mfull_backward_hooks\u001b[0m\u001b[0;34m,\u001b[0m \u001b[0mnon_full_backward_hooks\u001b[0m \u001b[0;34m=\u001b[0m \u001b[0;34m[\u001b[0m\u001b[0;34m]\u001b[0m\u001b[0;34m,\u001b[0m \u001b[0;34m[\u001b[0m\u001b[0;34m]\u001b[0m\u001b[0;34m\u001b[0m\u001b[0;34m\u001b[0m\u001b[0m\n",
            "\u001b[0;32m/content/drive/My Drive/Tesis notebooks/TOA_causal/TOA/mbfdunetln.py\u001b[0m in \u001b[0;36mforward\u001b[0;34m(self, x)\u001b[0m\n\u001b[1;32m     22\u001b[0m \u001b[0;34m\u001b[0m\u001b[0m\n\u001b[1;32m     23\u001b[0m     \u001b[0;32mdef\u001b[0m \u001b[0mforward\u001b[0m\u001b[0;34m(\u001b[0m\u001b[0mself\u001b[0m\u001b[0;34m,\u001b[0m \u001b[0mx\u001b[0m\u001b[0;34m)\u001b[0m\u001b[0;34m:\u001b[0m\u001b[0;34m\u001b[0m\u001b[0;34m\u001b[0m\u001b[0m\n\u001b[0;32m---> 24\u001b[0;31m         \u001b[0mx\u001b[0m \u001b[0;34m=\u001b[0m \u001b[0mself\u001b[0m\u001b[0;34m.\u001b[0m\u001b[0mconv1\u001b[0m\u001b[0;34m(\u001b[0m\u001b[0mx\u001b[0m\u001b[0;34m)\u001b[0m\u001b[0;34m\u001b[0m\u001b[0;34m\u001b[0m\u001b[0m\n\u001b[0m\u001b[1;32m     25\u001b[0m         \u001b[0mx\u001b[0m \u001b[0;34m=\u001b[0m \u001b[0mself\u001b[0m\u001b[0;34m.\u001b[0m\u001b[0mlnorm1\u001b[0m\u001b[0;34m(\u001b[0m\u001b[0mx\u001b[0m\u001b[0;34m)\u001b[0m\u001b[0;34m\u001b[0m\u001b[0;34m\u001b[0m\u001b[0m\n\u001b[1;32m     26\u001b[0m         \u001b[0mx\u001b[0m \u001b[0;34m=\u001b[0m \u001b[0mself\u001b[0m\u001b[0;34m.\u001b[0m\u001b[0mrelu\u001b[0m\u001b[0;34m(\u001b[0m\u001b[0mx\u001b[0m\u001b[0;34m)\u001b[0m\u001b[0;34m\u001b[0m\u001b[0;34m\u001b[0m\u001b[0m\n",
            "\u001b[0;32m/usr/local/lib/python3.7/dist-packages/torch/nn/modules/module.py\u001b[0m in \u001b[0;36m_call_impl\u001b[0;34m(self, *input, **kwargs)\u001b[0m\n\u001b[1;32m   1128\u001b[0m         if not (self._backward_hooks or self._forward_hooks or self._forward_pre_hooks or _global_backward_hooks\n\u001b[1;32m   1129\u001b[0m                 or _global_forward_hooks or _global_forward_pre_hooks):\n\u001b[0;32m-> 1130\u001b[0;31m             \u001b[0;32mreturn\u001b[0m \u001b[0mforward_call\u001b[0m\u001b[0;34m(\u001b[0m\u001b[0;34m*\u001b[0m\u001b[0minput\u001b[0m\u001b[0;34m,\u001b[0m \u001b[0;34m**\u001b[0m\u001b[0mkwargs\u001b[0m\u001b[0;34m)\u001b[0m\u001b[0;34m\u001b[0m\u001b[0;34m\u001b[0m\u001b[0m\n\u001b[0m\u001b[1;32m   1131\u001b[0m         \u001b[0;31m# Do not call functions when jit is used\u001b[0m\u001b[0;34m\u001b[0m\u001b[0;34m\u001b[0m\u001b[0;34m\u001b[0m\u001b[0m\n\u001b[1;32m   1132\u001b[0m         \u001b[0mfull_backward_hooks\u001b[0m\u001b[0;34m,\u001b[0m \u001b[0mnon_full_backward_hooks\u001b[0m \u001b[0;34m=\u001b[0m \u001b[0;34m[\u001b[0m\u001b[0;34m]\u001b[0m\u001b[0;34m,\u001b[0m \u001b[0;34m[\u001b[0m\u001b[0;34m]\u001b[0m\u001b[0;34m\u001b[0m\u001b[0;34m\u001b[0m\u001b[0m\n",
            "\u001b[0;32m/usr/local/lib/python3.7/dist-packages/torch/nn/modules/conv.py\u001b[0m in \u001b[0;36mforward\u001b[0;34m(self, input)\u001b[0m\n\u001b[1;32m    455\u001b[0m \u001b[0;34m\u001b[0m\u001b[0m\n\u001b[1;32m    456\u001b[0m     \u001b[0;32mdef\u001b[0m \u001b[0mforward\u001b[0m\u001b[0;34m(\u001b[0m\u001b[0mself\u001b[0m\u001b[0;34m,\u001b[0m \u001b[0minput\u001b[0m\u001b[0;34m:\u001b[0m \u001b[0mTensor\u001b[0m\u001b[0;34m)\u001b[0m \u001b[0;34m->\u001b[0m \u001b[0mTensor\u001b[0m\u001b[0;34m:\u001b[0m\u001b[0;34m\u001b[0m\u001b[0;34m\u001b[0m\u001b[0m\n\u001b[0;32m--> 457\u001b[0;31m         \u001b[0;32mreturn\u001b[0m \u001b[0mself\u001b[0m\u001b[0;34m.\u001b[0m\u001b[0m_conv_forward\u001b[0m\u001b[0;34m(\u001b[0m\u001b[0minput\u001b[0m\u001b[0;34m,\u001b[0m \u001b[0mself\u001b[0m\u001b[0;34m.\u001b[0m\u001b[0mweight\u001b[0m\u001b[0;34m,\u001b[0m \u001b[0mself\u001b[0m\u001b[0;34m.\u001b[0m\u001b[0mbias\u001b[0m\u001b[0;34m)\u001b[0m\u001b[0;34m\u001b[0m\u001b[0;34m\u001b[0m\u001b[0m\n\u001b[0m\u001b[1;32m    458\u001b[0m \u001b[0;34m\u001b[0m\u001b[0m\n\u001b[1;32m    459\u001b[0m \u001b[0;32mclass\u001b[0m \u001b[0mConv3d\u001b[0m\u001b[0;34m(\u001b[0m\u001b[0m_ConvNd\u001b[0m\u001b[0;34m)\u001b[0m\u001b[0;34m:\u001b[0m\u001b[0;34m\u001b[0m\u001b[0;34m\u001b[0m\u001b[0m\n",
            "\u001b[0;32m/usr/local/lib/python3.7/dist-packages/torch/nn/modules/conv.py\u001b[0m in \u001b[0;36m_conv_forward\u001b[0;34m(self, input, weight, bias)\u001b[0m\n\u001b[1;32m    452\u001b[0m                             _pair(0), self.dilation, self.groups)\n\u001b[1;32m    453\u001b[0m         return F.conv2d(input, weight, bias, self.stride,\n\u001b[0;32m--> 454\u001b[0;31m                         self.padding, self.dilation, self.groups)\n\u001b[0m\u001b[1;32m    455\u001b[0m \u001b[0;34m\u001b[0m\u001b[0m\n\u001b[1;32m    456\u001b[0m     \u001b[0;32mdef\u001b[0m \u001b[0mforward\u001b[0m\u001b[0;34m(\u001b[0m\u001b[0mself\u001b[0m\u001b[0;34m,\u001b[0m \u001b[0minput\u001b[0m\u001b[0;34m:\u001b[0m \u001b[0mTensor\u001b[0m\u001b[0;34m)\u001b[0m \u001b[0;34m->\u001b[0m \u001b[0mTensor\u001b[0m\u001b[0;34m:\u001b[0m\u001b[0;34m\u001b[0m\u001b[0;34m\u001b[0m\u001b[0m\n",
            "\u001b[0;31mKeyboardInterrupt\u001b[0m: "
          ]
        }
      ],
      "source": [
        "ckp_benchmark_last = cache_dir + 'benchmark' + fecha + '.pth'\n",
        "ckp_benchmark_best = cache_dir + 'benchmark_best' + fecha + '.pth'\n",
        "checkpoint_nc = {'valid_loss_min': np.inf, 'agreement_threshold' : 0.0}\n",
        "epoch0 = 0\n",
        "for batchsize in bs:\n",
        "    train_loader_nc, val_loader_nc = load_traindataset_nc(cache_dir,val_percent,batchsize*le,val_batchsize=40,le = le)\n",
        "    for lr in alphas:\n",
        "        model_nc = MBPFDUNet().to(device=device)\n",
        "        checkpoint_nc['state_dict'] = model_nc.state_dict()\n",
        "        optimizer_nc = torch.optim.Adam(model_nc.parameters(),lr=lr)\n",
        "        checkpoint_nc['learning_rate'] = lr\n",
        "        checkpoint_nc['batchsize'] = batchsize\n",
        "        checkpoint_nc['optimizer'] = optimizer_nc.state_dict()\n",
        "        checkpoint_nc['epoch'] = epoch0\n",
        "        lr_scheduler_nc = MultiStepLR(optimizer_nc,milestones=[le * epochs * 3 // 4],gamma=0.1)\n",
        "        for epoch in tqdm(range(epoch0 + 1, epochs + 1)):\n",
        "            train_nc(model_nc,device,train_loader_nc,optimizer_nc,Ao=Ao,loss_fn=loss_fn,scheduler=lr_scheduler_nc)\n",
        "            checkpoint_nc['epoch'] = epoch\n",
        "            checkpoint_nc['valid_loss_min'] = validation(model_nc, device, val_loader_nc, optimizer_nc, loss_fn, Ao, checkpoint_nc, ckp_benchmark_last, ckp_benchmark_best, fecha)"
      ]
    },
    {
      "cell_type": "code",
      "source": [
        "if in_colab:\n",
        "    name = f\"MBPFDUNet_bs_{bs}_epo_{epochs}_lr_{lr}_NC\"\n",
        "    save_model(model, name=name)"
      ],
      "metadata": {
        "id": "eF31ZInttvmd"
      },
      "execution_count": null,
      "outputs": []
    },
    {
      "cell_type": "code",
      "execution_count": null,
      "metadata": {
        "id": "y5qThwx6it5n"
      },
      "outputs": [],
      "source": [
        "model_nc, optimizer_nc, best_epoch_nc, vlm_nc, lr_nc, bs_nc, at_nc= load_ckp(ckp_benchmark_best, model_nc, optimizer_nc)"
      ]
    },
    {
      "cell_type": "code",
      "execution_count": null,
      "metadata": {
        "id": "2CPU4FkKit5n"
      },
      "outputs": [],
      "source": [
        "test_loaders = load_testdataset(cache_dir)\n",
        "le_test = len(test_loaders)\n",
        "SSIM = [[] for _ in range(le_test)] \n",
        "PC = [[] for _ in range(le_test)] \n",
        "RMSE = [[] for _ in range(le_test)]\n",
        "PSNR = [[] for _ in range(le_test)]\n",
        "for j in range(le_test):\n",
        "    iterator = iter(test_loaders[j])\n",
        "    while 1:\n",
        "        try:\n",
        "            data_test = next(iterator)\n",
        "        except StopIteration:\n",
        "            break  \n",
        "        a,b,c,d=computing_metrics(data_test[0].to(\"cpu\"),data_test[1].to(\"cpu\"),Ao.to(device=\"cpu\"),model,model_nc)\n",
        "        SSIM[j].append(a)\n",
        "        PC[j].append(b)\n",
        "        RMSE[j].append(c)\n",
        "        PSNR[j].append(d)"
      ]
    },
    {
      "cell_type": "code",
      "execution_count": null,
      "metadata": {
        "id": "KSGSuxh8it5o"
      },
      "outputs": [],
      "source": [
        "#from importlib import reload \n",
        "#import utils.causal_utils \n",
        "#reload(utils.causal_utils)\n",
        "#from utils.causal_utils import testing\n",
        "testing(np.array(SSIM),np.array(PC),np.array(RMSE),np.array(PSNR),test_loaders, Ao.to(device=\"cpu\"),model, model_nc)"
      ]
    },
    {
      "cell_type": "code",
      "execution_count": null,
      "metadata": {
        "id": "cWtG-52Cit5o"
      },
      "outputs": [],
      "source": []
    },
    {
      "cell_type": "code",
      "execution_count": null,
      "metadata": {
        "id": "YNQV2V9Iit5o"
      },
      "outputs": [],
      "source": []
    }
  ],
  "metadata": {
    "kernelspec": {
      "display_name": "Python 3",
      "language": "python",
      "name": "python3"
    },
    "language_info": {
      "codemirror_mode": {
        "name": "ipython",
        "version": 3
      },
      "file_extension": ".py",
      "mimetype": "text/x-python",
      "name": "python",
      "nbconvert_exporter": "python",
      "pygments_lexer": "ipython3",
      "version": "3.7.9"
    },
    "colab": {
      "provenance": [],
      "include_colab_link": true
    },
    "accelerator": "GPU",
    "widgets": {
      "application/vnd.jupyter.widget-state+json": {
        "f2ec5bd93cbd4243a2f2c6d6296eebe9": {
          "model_module": "@jupyter-widgets/controls",
          "model_name": "VBoxModel",
          "model_module_version": "1.5.0",
          "state": {
            "_dom_classes": [],
            "_model_module": "@jupyter-widgets/controls",
            "_model_module_version": "1.5.0",
            "_model_name": "VBoxModel",
            "_view_count": null,
            "_view_module": "@jupyter-widgets/controls",
            "_view_module_version": "1.5.0",
            "_view_name": "VBoxView",
            "box_style": "",
            "children": [
              "IPY_MODEL_85f7b8379eda4ef1babbca264326b00f",
              "IPY_MODEL_312b151ea6594287b422169b89707ee8"
            ],
            "layout": "IPY_MODEL_200e288580bb4b808060a9fb07fcd0e6"
          }
        },
        "85f7b8379eda4ef1babbca264326b00f": {
          "model_module": "@jupyter-widgets/controls",
          "model_name": "LabelModel",
          "model_module_version": "1.5.0",
          "state": {
            "_dom_classes": [],
            "_model_module": "@jupyter-widgets/controls",
            "_model_module_version": "1.5.0",
            "_model_name": "LabelModel",
            "_view_count": null,
            "_view_module": "@jupyter-widgets/controls",
            "_view_module_version": "1.5.0",
            "_view_name": "LabelView",
            "description": "",
            "description_tooltip": null,
            "layout": "IPY_MODEL_296a851d22e54e11b7dad5956928c92c",
            "placeholder": "​",
            "style": "IPY_MODEL_f01d5539ab2d496f87548ad921367d46",
            "value": "0.001 MB of 0.009 MB uploaded (0.000 MB deduped)\r"
          }
        },
        "312b151ea6594287b422169b89707ee8": {
          "model_module": "@jupyter-widgets/controls",
          "model_name": "FloatProgressModel",
          "model_module_version": "1.5.0",
          "state": {
            "_dom_classes": [],
            "_model_module": "@jupyter-widgets/controls",
            "_model_module_version": "1.5.0",
            "_model_name": "FloatProgressModel",
            "_view_count": null,
            "_view_module": "@jupyter-widgets/controls",
            "_view_module_version": "1.5.0",
            "_view_name": "ProgressView",
            "bar_style": "",
            "description": "",
            "description_tooltip": null,
            "layout": "IPY_MODEL_05f9f49d44f440bc8c0834a2ebb5953c",
            "max": 1,
            "min": 0,
            "orientation": "horizontal",
            "style": "IPY_MODEL_7cbcc5f687bc4fd294a0c8b967e054c8",
            "value": 0.07390401224445173
          }
        },
        "200e288580bb4b808060a9fb07fcd0e6": {
          "model_module": "@jupyter-widgets/base",
          "model_name": "LayoutModel",
          "model_module_version": "1.2.0",
          "state": {
            "_model_module": "@jupyter-widgets/base",
            "_model_module_version": "1.2.0",
            "_model_name": "LayoutModel",
            "_view_count": null,
            "_view_module": "@jupyter-widgets/base",
            "_view_module_version": "1.2.0",
            "_view_name": "LayoutView",
            "align_content": null,
            "align_items": null,
            "align_self": null,
            "border": null,
            "bottom": null,
            "display": null,
            "flex": null,
            "flex_flow": null,
            "grid_area": null,
            "grid_auto_columns": null,
            "grid_auto_flow": null,
            "grid_auto_rows": null,
            "grid_column": null,
            "grid_gap": null,
            "grid_row": null,
            "grid_template_areas": null,
            "grid_template_columns": null,
            "grid_template_rows": null,
            "height": null,
            "justify_content": null,
            "justify_items": null,
            "left": null,
            "margin": null,
            "max_height": null,
            "max_width": null,
            "min_height": null,
            "min_width": null,
            "object_fit": null,
            "object_position": null,
            "order": null,
            "overflow": null,
            "overflow_x": null,
            "overflow_y": null,
            "padding": null,
            "right": null,
            "top": null,
            "visibility": null,
            "width": null
          }
        },
        "296a851d22e54e11b7dad5956928c92c": {
          "model_module": "@jupyter-widgets/base",
          "model_name": "LayoutModel",
          "model_module_version": "1.2.0",
          "state": {
            "_model_module": "@jupyter-widgets/base",
            "_model_module_version": "1.2.0",
            "_model_name": "LayoutModel",
            "_view_count": null,
            "_view_module": "@jupyter-widgets/base",
            "_view_module_version": "1.2.0",
            "_view_name": "LayoutView",
            "align_content": null,
            "align_items": null,
            "align_self": null,
            "border": null,
            "bottom": null,
            "display": null,
            "flex": null,
            "flex_flow": null,
            "grid_area": null,
            "grid_auto_columns": null,
            "grid_auto_flow": null,
            "grid_auto_rows": null,
            "grid_column": null,
            "grid_gap": null,
            "grid_row": null,
            "grid_template_areas": null,
            "grid_template_columns": null,
            "grid_template_rows": null,
            "height": null,
            "justify_content": null,
            "justify_items": null,
            "left": null,
            "margin": null,
            "max_height": null,
            "max_width": null,
            "min_height": null,
            "min_width": null,
            "object_fit": null,
            "object_position": null,
            "order": null,
            "overflow": null,
            "overflow_x": null,
            "overflow_y": null,
            "padding": null,
            "right": null,
            "top": null,
            "visibility": null,
            "width": null
          }
        },
        "f01d5539ab2d496f87548ad921367d46": {
          "model_module": "@jupyter-widgets/controls",
          "model_name": "DescriptionStyleModel",
          "model_module_version": "1.5.0",
          "state": {
            "_model_module": "@jupyter-widgets/controls",
            "_model_module_version": "1.5.0",
            "_model_name": "DescriptionStyleModel",
            "_view_count": null,
            "_view_module": "@jupyter-widgets/base",
            "_view_module_version": "1.2.0",
            "_view_name": "StyleView",
            "description_width": ""
          }
        },
        "05f9f49d44f440bc8c0834a2ebb5953c": {
          "model_module": "@jupyter-widgets/base",
          "model_name": "LayoutModel",
          "model_module_version": "1.2.0",
          "state": {
            "_model_module": "@jupyter-widgets/base",
            "_model_module_version": "1.2.0",
            "_model_name": "LayoutModel",
            "_view_count": null,
            "_view_module": "@jupyter-widgets/base",
            "_view_module_version": "1.2.0",
            "_view_name": "LayoutView",
            "align_content": null,
            "align_items": null,
            "align_self": null,
            "border": null,
            "bottom": null,
            "display": null,
            "flex": null,
            "flex_flow": null,
            "grid_area": null,
            "grid_auto_columns": null,
            "grid_auto_flow": null,
            "grid_auto_rows": null,
            "grid_column": null,
            "grid_gap": null,
            "grid_row": null,
            "grid_template_areas": null,
            "grid_template_columns": null,
            "grid_template_rows": null,
            "height": null,
            "justify_content": null,
            "justify_items": null,
            "left": null,
            "margin": null,
            "max_height": null,
            "max_width": null,
            "min_height": null,
            "min_width": null,
            "object_fit": null,
            "object_position": null,
            "order": null,
            "overflow": null,
            "overflow_x": null,
            "overflow_y": null,
            "padding": null,
            "right": null,
            "top": null,
            "visibility": null,
            "width": null
          }
        },
        "7cbcc5f687bc4fd294a0c8b967e054c8": {
          "model_module": "@jupyter-widgets/controls",
          "model_name": "ProgressStyleModel",
          "model_module_version": "1.5.0",
          "state": {
            "_model_module": "@jupyter-widgets/controls",
            "_model_module_version": "1.5.0",
            "_model_name": "ProgressStyleModel",
            "_view_count": null,
            "_view_module": "@jupyter-widgets/base",
            "_view_module_version": "1.2.0",
            "_view_name": "StyleView",
            "bar_color": null,
            "description_width": ""
          }
        }
      }
    }
  },
  "nbformat": 4,
  "nbformat_minor": 0
}